{
 "cells": [
  {
   "cell_type": "markdown",
   "metadata": {},
   "source": [
    "# Machine Learning Lab 1"
   ]
  },
  {
   "cell_type": "markdown",
   "metadata": {},
   "source": [
    "## Assignment 2 (Deadline : 22/10/2020 11:59PM)\n",
    "\n",
    "Total Points : 50"
   ]
  },
  {
   "cell_type": "markdown",
   "metadata": {},
   "source": [
    "### 1. Read the data into numpy array"
   ]
  },
  {
   "cell_type": "code",
   "execution_count": 2,
   "metadata": {},
   "outputs": [],
   "source": [
    "# Read data from file: 'data.csv'. \n",
    "# Note that the first row has the number of inputs and number of outputs specified.\n",
    "# For your reference: you can use \"np.loadtxt\".\n",
    "import pandas as pd \n",
    "df = pd.read_csv('data.csv')\n",
    "\n"
   ]
  },
  {
   "cell_type": "code",
   "execution_count": 3,
   "metadata": {},
   "outputs": [
    {
     "data": {
      "text/html": [
       "<div>\n",
       "<style scoped>\n",
       "    .dataframe tbody tr th:only-of-type {\n",
       "        vertical-align: middle;\n",
       "    }\n",
       "\n",
       "    .dataframe tbody tr th {\n",
       "        vertical-align: top;\n",
       "    }\n",
       "\n",
       "    .dataframe thead th {\n",
       "        text-align: right;\n",
       "    }\n",
       "</style>\n",
       "<table border=\"1\" class=\"dataframe\">\n",
       "  <thead>\n",
       "    <tr style=\"text-align: right;\">\n",
       "      <th></th>\n",
       "      <th>2</th>\n",
       "      <th>1</th>\n",
       "    </tr>\n",
       "  </thead>\n",
       "  <tbody>\n",
       "    <tr>\n",
       "      <th>51.87</th>\n",
       "      <td>79.72</td>\n",
       "      <td>1249.99</td>\n",
       "    </tr>\n",
       "    <tr>\n",
       "      <th>-30.66</th>\n",
       "      <td>-15.64</td>\n",
       "      <td>-516.61</td>\n",
       "    </tr>\n",
       "    <tr>\n",
       "      <th>-57.57</th>\n",
       "      <td>94.22</td>\n",
       "      <td>312.09</td>\n",
       "    </tr>\n",
       "    <tr>\n",
       "      <th>-122.10</th>\n",
       "      <td>5.15</td>\n",
       "      <td>-1544.90</td>\n",
       "    </tr>\n",
       "    <tr>\n",
       "      <th>-53.45</th>\n",
       "      <td>41.87</td>\n",
       "      <td>-201.57</td>\n",
       "    </tr>\n",
       "    <tr>\n",
       "      <th>...</th>\n",
       "      <td>...</td>\n",
       "      <td>...</td>\n",
       "    </tr>\n",
       "    <tr>\n",
       "      <th>24.70</th>\n",
       "      <td>189.14</td>\n",
       "      <td>1305.10</td>\n",
       "    </tr>\n",
       "    <tr>\n",
       "      <th>31.81</th>\n",
       "      <td>-25.28</td>\n",
       "      <td>254.60</td>\n",
       "    </tr>\n",
       "    <tr>\n",
       "      <th>-18.60</th>\n",
       "      <td>32.61</td>\n",
       "      <td>-45.14</td>\n",
       "    </tr>\n",
       "    <tr>\n",
       "      <th>-38.31</th>\n",
       "      <td>77.81</td>\n",
       "      <td>-20.13</td>\n",
       "    </tr>\n",
       "    <tr>\n",
       "      <th>-38.33</th>\n",
       "      <td>45.69</td>\n",
       "      <td>-460.47</td>\n",
       "    </tr>\n",
       "  </tbody>\n",
       "</table>\n",
       "<p>3000 rows × 2 columns</p>\n",
       "</div>"
      ],
      "text/plain": [
       "              2        1\n",
       " 51.87    79.72  1249.99\n",
       "-30.66   -15.64  -516.61\n",
       "-57.57    94.22   312.09\n",
       "-122.10    5.15 -1544.90\n",
       "-53.45    41.87  -201.57\n",
       "...         ...      ...\n",
       " 24.70   189.14  1305.10\n",
       " 31.81   -25.28   254.60\n",
       "-18.60    32.61   -45.14\n",
       "-38.31    77.81   -20.13\n",
       "-38.33    45.69  -460.47\n",
       "\n",
       "[3000 rows x 2 columns]"
      ]
     },
     "execution_count": 3,
     "metadata": {},
     "output_type": "execute_result"
    }
   ],
   "source": [
    "df"
   ]
  },
  {
   "cell_type": "markdown",
   "metadata": {},
   "source": [
    "### 2. Plot and Explore the data to get a better understanding"
   ]
  },
  {
   "cell_type": "code",
   "execution_count": null,
   "metadata": {},
   "outputs": [],
   "source": []
  },
  {
   "cell_type": "markdown",
   "metadata": {},
   "source": [
    "### 3. Prepare the data for modelling. (8 points)"
   ]
  },
  {
   "cell_type": "code",
   "execution_count": 2,
   "metadata": {},
   "outputs": [],
   "source": [
    "# Separate the data: input and output.\n",
    "\n",
    "\n"
   ]
  },
  {
   "cell_type": "code",
   "execution_count": 3,
   "metadata": {},
   "outputs": [],
   "source": [
    "# Perform a train-val-test split of 60-20-20.\n",
    "# Use \"random_state=42\".\n",
    "# For your reference: you can use \"train_test_split\" from sklearn twice to perform this. \n",
    "# From your understanding of the dataset, is stratified sampling necessary in this case? Why / Why not?\n",
    "\n",
    "\n"
   ]
  },
  {
   "cell_type": "markdown",
   "metadata": {},
   "source": [
    "### 4. Modelling"
   ]
  },
  {
   "cell_type": "markdown",
   "metadata": {},
   "source": [
    "#### 4.1. Linear Regression (8 points)"
   ]
  },
  {
   "cell_type": "code",
   "execution_count": 4,
   "metadata": {},
   "outputs": [],
   "source": [
    "# Implement Linear Regression.\n",
    "# Use both train and val data for training purpose.\n",
    "# Make preditions on both training(train+val) and test data.\n",
    "\n",
    "\n"
   ]
  },
  {
   "cell_type": "markdown",
   "metadata": {},
   "source": [
    "#### 4.2. Ridge Regression (8 points)"
   ]
  },
  {
   "cell_type": "code",
   "execution_count": 5,
   "metadata": {},
   "outputs": [],
   "source": [
    "# Implement Ridge Regression.\n",
    "# Perform cross validation to find a good value for your hyper-parameter.\n",
    "# After choosing a good value for your hyper-parameter, use both train and val data for final training purpose of your model.\n",
    "# Make preditions on both training(train+val) and test data.\n",
    "\n",
    "\n"
   ]
  },
  {
   "cell_type": "markdown",
   "metadata": {},
   "source": [
    "#### 4.3. Lasso Regression (8 points)"
   ]
  },
  {
   "cell_type": "code",
   "execution_count": 6,
   "metadata": {},
   "outputs": [],
   "source": [
    "# Implement Lasso Regression.\n",
    "# Perform cross validation to find a good value for your hyper-parameter.\n",
    "# After choosing a good value for your hyper-parameter, use both train and val data for final training purpose of your model.\n",
    "# Make preditions on both training(train+val) and test data.\n",
    "\n",
    "\n",
    "\n"
   ]
  },
  {
   "cell_type": "markdown",
   "metadata": {},
   "source": [
    "#### 4.4. ElasticNet Regression (8 points)"
   ]
  },
  {
   "cell_type": "code",
   "execution_count": 7,
   "metadata": {},
   "outputs": [],
   "source": [
    "# Implement ElasticNet Regression.\n",
    "# Perform cross validation to find a good value for your hyper-parameters.\n",
    "# After choosing a good value for your hyper-parameter, use both train and val data for final training purpose of your model.\n",
    "# Make preditions on both training(train+val) and test data.\n",
    "\n",
    "\n",
    "\n"
   ]
  },
  {
   "cell_type": "markdown",
   "metadata": {},
   "source": [
    "### 5. Analysis (8 points)"
   ]
  },
  {
   "cell_type": "code",
   "execution_count": 8,
   "metadata": {},
   "outputs": [],
   "source": [
    "# Write down the actual value along with the preditions from all the regression models, for the first 10 points in test data.\n",
    "# Find both RMSE and MAE for all the regression models on both training(train+val) and testing data.\n",
    "\n",
    "\n"
   ]
  },
  {
   "cell_type": "markdown",
   "metadata": {},
   "source": [
    "### 6. Final Observations (2 points)"
   ]
  },
  {
   "cell_type": "code",
   "execution_count": 9,
   "metadata": {},
   "outputs": [],
   "source": [
    "# Write down your final conclusions/observations.\n",
    "\n"
   ]
  }
 ],
 "metadata": {
  "kernelspec": {
   "display_name": "Python 3",
   "language": "python",
   "name": "python3"
  },
  "language_info": {
   "codemirror_mode": {
    "name": "ipython",
    "version": 3
   },
   "file_extension": ".py",
   "mimetype": "text/x-python",
   "name": "python",
   "nbconvert_exporter": "python",
   "pygments_lexer": "ipython3",
   "version": "3.8.2"
  }
 },
 "nbformat": 4,
 "nbformat_minor": 4
}
