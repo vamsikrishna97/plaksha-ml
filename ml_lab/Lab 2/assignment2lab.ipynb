{
 "cells": [
  {
   "cell_type": "markdown",
   "metadata": {},
   "source": [
    "# Machine Learning Lab 1"
   ]
  },
  {
   "cell_type": "markdown",
   "metadata": {},
   "source": [
    "## Assignment 2 (Deadline : 22/10/2020 11:59PM)\n",
    "\n",
    "Total Points : 50"
   ]
  },
  {
   "cell_type": "markdown",
   "metadata": {},
   "source": [
    "### 1. Read the data into numpy array"
   ]
  },
  {
   "cell_type": "code",
   "execution_count": 1,
   "metadata": {},
   "outputs": [
    {
     "data": {
      "text/html": [
       "<div>\n",
       "<style scoped>\n",
       "    .dataframe tbody tr th:only-of-type {\n",
       "        vertical-align: middle;\n",
       "    }\n",
       "\n",
       "    .dataframe tbody tr th {\n",
       "        vertical-align: top;\n",
       "    }\n",
       "\n",
       "    .dataframe thead th {\n",
       "        text-align: right;\n",
       "    }\n",
       "</style>\n",
       "<table border=\"1\" class=\"dataframe\">\n",
       "  <thead>\n",
       "    <tr style=\"text-align: right;\">\n",
       "      <th></th>\n",
       "      <th>x1</th>\n",
       "      <th>x2</th>\n",
       "      <th>y</th>\n",
       "    </tr>\n",
       "  </thead>\n",
       "  <tbody>\n",
       "    <tr>\n",
       "      <th>0</th>\n",
       "      <td>51.87</td>\n",
       "      <td>79.72</td>\n",
       "      <td>1249.99</td>\n",
       "    </tr>\n",
       "    <tr>\n",
       "      <th>1</th>\n",
       "      <td>-30.66</td>\n",
       "      <td>-15.64</td>\n",
       "      <td>-516.61</td>\n",
       "    </tr>\n",
       "    <tr>\n",
       "      <th>2</th>\n",
       "      <td>-57.57</td>\n",
       "      <td>94.22</td>\n",
       "      <td>312.09</td>\n",
       "    </tr>\n",
       "    <tr>\n",
       "      <th>3</th>\n",
       "      <td>-122.10</td>\n",
       "      <td>5.15</td>\n",
       "      <td>-1544.90</td>\n",
       "    </tr>\n",
       "    <tr>\n",
       "      <th>4</th>\n",
       "      <td>-53.45</td>\n",
       "      <td>41.87</td>\n",
       "      <td>-201.57</td>\n",
       "    </tr>\n",
       "  </tbody>\n",
       "</table>\n",
       "</div>"
      ],
      "text/plain": [
       "       x1     x2        y\n",
       "0   51.87  79.72  1249.99\n",
       "1  -30.66 -15.64  -516.61\n",
       "2  -57.57  94.22   312.09\n",
       "3 -122.10   5.15 -1544.90\n",
       "4  -53.45  41.87  -201.57"
      ]
     },
     "execution_count": 1,
     "metadata": {},
     "output_type": "execute_result"
    }
   ],
   "source": [
    "# Read data from file: 'data.csv'. \n",
    "# Note that the first row has the number of inputs and number of outputs specified.\n",
    "# For your reference: you can use \"np.loadtxt\".\n",
    "import pandas as pd \n",
    "import matplotlib.pyplot as plt\n",
    "import numpy as np\n",
    "import warnings\n",
    "warnings.filterwarnings('ignore')\n",
    "from sklearn.model_selection  import train_test_split\n",
    "\n",
    "df = pd.read_csv('data.csv', header=None, skiprows= 1)\n",
    "df.columns =['x1','x2', 'y']\n",
    "df.head()"
   ]
  },
  {
   "cell_type": "markdown",
   "metadata": {},
   "source": [
    "### 2. Plot and Explore the data to get a better understanding"
   ]
  },
  {
   "cell_type": "code",
   "execution_count": 2,
   "metadata": {},
   "outputs": [
    {
     "data": {
      "text/html": [
       "<div>\n",
       "<style scoped>\n",
       "    .dataframe tbody tr th:only-of-type {\n",
       "        vertical-align: middle;\n",
       "    }\n",
       "\n",
       "    .dataframe tbody tr th {\n",
       "        vertical-align: top;\n",
       "    }\n",
       "\n",
       "    .dataframe thead th {\n",
       "        text-align: right;\n",
       "    }\n",
       "</style>\n",
       "<table border=\"1\" class=\"dataframe\">\n",
       "  <thead>\n",
       "    <tr style=\"text-align: right;\">\n",
       "      <th></th>\n",
       "      <th>x1</th>\n",
       "      <th>x2</th>\n",
       "      <th>y</th>\n",
       "    </tr>\n",
       "  </thead>\n",
       "  <tbody>\n",
       "    <tr>\n",
       "      <th>count</th>\n",
       "      <td>3000.000000</td>\n",
       "      <td>3000.00000</td>\n",
       "      <td>3000.000000</td>\n",
       "    </tr>\n",
       "    <tr>\n",
       "      <th>mean</th>\n",
       "      <td>-18.483293</td>\n",
       "      <td>31.24422</td>\n",
       "      <td>-11.450140</td>\n",
       "    </tr>\n",
       "    <tr>\n",
       "      <th>std</th>\n",
       "      <td>34.398479</td>\n",
       "      <td>42.99015</td>\n",
       "      <td>662.873355</td>\n",
       "    </tr>\n",
       "    <tr>\n",
       "      <th>min</th>\n",
       "      <td>-140.710000</td>\n",
       "      <td>-132.18000</td>\n",
       "      <td>-2325.790000</td>\n",
       "    </tr>\n",
       "    <tr>\n",
       "      <th>25%</th>\n",
       "      <td>-40.392500</td>\n",
       "      <td>3.38250</td>\n",
       "      <td>-446.140000</td>\n",
       "    </tr>\n",
       "    <tr>\n",
       "      <th>50%</th>\n",
       "      <td>-18.485000</td>\n",
       "      <td>31.34500</td>\n",
       "      <td>-17.680000</td>\n",
       "    </tr>\n",
       "    <tr>\n",
       "      <th>75%</th>\n",
       "      <td>4.125000</td>\n",
       "      <td>60.59000</td>\n",
       "      <td>429.782500</td>\n",
       "    </tr>\n",
       "    <tr>\n",
       "      <th>max</th>\n",
       "      <td>93.930000</td>\n",
       "      <td>189.99000</td>\n",
       "      <td>2198.490000</td>\n",
       "    </tr>\n",
       "  </tbody>\n",
       "</table>\n",
       "</div>"
      ],
      "text/plain": [
       "                x1          x2            y\n",
       "count  3000.000000  3000.00000  3000.000000\n",
       "mean    -18.483293    31.24422   -11.450140\n",
       "std      34.398479    42.99015   662.873355\n",
       "min    -140.710000  -132.18000 -2325.790000\n",
       "25%     -40.392500     3.38250  -446.140000\n",
       "50%     -18.485000    31.34500   -17.680000\n",
       "75%       4.125000    60.59000   429.782500\n",
       "max      93.930000   189.99000  2198.490000"
      ]
     },
     "execution_count": 2,
     "metadata": {},
     "output_type": "execute_result"
    }
   ],
   "source": [
    "df.describe()"
   ]
  },
  {
   "cell_type": "code",
   "execution_count": 3,
   "metadata": {},
   "outputs": [
    {
     "data": {
      "image/png": "[encoded data removed]",
      "text/plain": [
       "<Figure size 432x288 with 4 Axes>"
      ]
     },
     "metadata": {
      "needs_background": "light"
     },
     "output_type": "display_data"
    }
   ],
   "source": [
    "df.hist()\n",
    "plt.show()"
   ]
  },
  {
   "cell_type": "markdown",
   "metadata": {},
   "source": [
    "### 3. Prepare the data for modelling. (8 points)"
   ]
  },
  {
   "cell_type": "code",
   "execution_count": 4,
   "metadata": {},
   "outputs": [],
   "source": [
    "# Separate the data: input and output.\n",
    "\n",
    "X = df[['x1','x2']]\n",
    "y = df['y']"
   ]
  },
  {
   "cell_type": "code",
   "execution_count": 5,
   "metadata": {},
   "outputs": [],
   "source": [
    "# Perform a train-val-test split of 60-20-20.\n",
    "# Use \"random_state=42\".\n",
    "# For your reference: you can use \"train_test_split\" from sklearn twice to perform this. \n",
    "# From your understanding of the dataset, is stratified sampling necessary in this case? Why / Why not?\n",
    "\n",
    "X_tv, X_test, y_tv, y_test = train_test_split(X, y, test_size=0.2, random_state=42)\n",
    "X_train, X_val, y_train, y_val = train_test_split(X_tv, y_tv, test_size=0.25, random_state=42)"
   ]
  },
  {
   "cell_type": "markdown",
   "metadata": {},
   "source": [
    "#### Why not stratified sampling?\n",
    "Our dependent Y variable is continous and in order to stratify it we would need to split the variables into bins. These bins further would be used while finding for a representative test sample. Now, identifying the number of bins, the size of bins and also find a exhaustive set of classes for each element in the data is very difficult."
   ]
  },
  {
   "cell_type": "markdown",
   "metadata": {},
   "source": [
    "### 4. Modelling"
   ]
  },
  {
   "cell_type": "markdown",
   "metadata": {},
   "source": [
    "#### 4.1. Linear Regression (8 points)"
   ]
  },
  {
   "cell_type": "code",
   "execution_count": 6,
   "metadata": {},
   "outputs": [],
   "source": [
    "# Implement Linear Regression.\n",
    "# Use both train and val data for training purpose.\n",
    "# Make preditions on both training(train+val) and test data.\n",
    "from sklearn.linear_model import LinearRegression\n",
    "from sklearn.metrics import mean_absolute_error, mean_squared_error\n",
    "\n",
    "Regressor = LinearRegression().fit(X_tv, y_tv)\n",
    "lr_predict_tv = Regressor.predict(X_tv)\n",
    "lr_predict_test = Regressor.predict(X_test)\n",
    "\n",
    "lr_net_results = {'model': 'Linear Regression',\n",
    "                    'train_mse' : round(mean_squared_error(y_tv, lr_predict_tv),2),\n",
    "                      'test mse' : round(mean_squared_error(y_test, lr_predict_test),2),\n",
    "                      'train_mae':round(mean_absolute_error(y_tv, lr_predict_tv),2),\n",
    "                      'test_mae':round(mean_absolute_error(y_test, lr_predict_test),2)}"
   ]
  },
  {
   "cell_type": "markdown",
   "metadata": {},
   "source": [
    "#### 4.2. Ridge Regression (8 points)"
   ]
  },
  {
   "cell_type": "markdown",
   "metadata": {},
   "source": [
    "Identify the right alpha using the validation data"
   ]
  },
  {
   "cell_type": "code",
   "execution_count": 19,
   "metadata": {},
   "outputs": [
    {
     "data": {
      "image/png": "[encoded data removed]",
      "text/plain": [
       "<Figure size 432x288 with 1 Axes>"
      ]
     },
     "metadata": {
      "needs_background": "light"
     },
     "output_type": "display_data"
    }
   ],
   "source": [
    "# Implement Ridge Regression.\n",
    "# Perform cross validation to find a good value for your hyper-parameter.\n",
    "# After choosing a good value for your hyper-parameter, use both train and val data for final training purpose of your model.\n",
    "# Make preditions on both training(train+val) and test data.\n",
    "from sklearn.linear_model import Ridge\n",
    "\n",
    "alphas = np.arange(0,13000, 1)\n",
    "\n",
    "mse_list = []\n",
    "optimal_alpha = None\n",
    "optimal_val_mse = np.inf\n",
    "\n",
    "for alpha in alphas:\n",
    "    Regressor = Ridge(alpha=alpha).fit(X_train,y_train)\n",
    "    pred_val = Regressor.predict(X_val)\n",
    "    mse_error = mean_squared_error(pred_val, y_val)\n",
    "    mse_list.append(mse_error)\n",
    "    if mse_error < optimal_val_mse:\n",
    "        optimal_alpha = alpha\n",
    "        optimal_val_mse = mse_error\n",
    "        \n",
    "plt.plot(mse_list)\n",
    "plt.title('Comparing Alpha to mean squared error \\n Optimal Alpha for Ridge Regression is {}'.format(optimal_alpha))\n",
    "plt.xlabel('Alpha')\n",
    "plt.ylabel('Mean Squared Error')\n",
    "plt.show()"
   ]
  },
  {
   "cell_type": "markdown",
   "metadata": {},
   "source": [
    "Train on the entire data (Train + Val)"
   ]
  },
  {
   "cell_type": "code",
   "execution_count": 20,
   "metadata": {},
   "outputs": [],
   "source": [
    "Regressor = Ridge(alpha=optimal_alpha).fit(X_tv, y_tv)\n",
    "ridge_predict_tv = Regressor.predict(X_tv)\n",
    "ridge_predict_test = Regressor.predict(X_test)\n",
    "\n",
    "ridge_net_results = {'model': 'Ridge Regression',\n",
    "                    'train_mse' : round(mean_squared_error(y_tv, ridge_predict_tv),2),\n",
    "                      'test mse' : round(mean_squared_error(y_test, ridge_predict_test),2),\n",
    "                      'train_mae':round(mean_absolute_error(y_tv, ridge_predict_tv),2),\n",
    "                      'test_mae':round(mean_absolute_error(y_test, ridge_predict_test),2)}"
   ]
  },
  {
   "cell_type": "code",
   "execution_count": 21,
   "metadata": {},
   "outputs": [
    {
     "data": {
      "text/plain": [
       "1.1231765740812598"
      ]
     },
     "execution_count": 21,
     "metadata": {},
     "output_type": "execute_result"
    }
   ],
   "source": [
    "Regressor.intercept_"
   ]
  },
  {
   "cell_type": "markdown",
   "metadata": {},
   "source": [
    "#### 4.3. Lasso Regression (8 points)"
   ]
  },
  {
   "cell_type": "markdown",
   "metadata": {},
   "source": [
    "Identify the right alpha using the validation data"
   ]
  },
  {
   "cell_type": "code",
   "execution_count": 18,
   "metadata": {},
   "outputs": [
    {
     "data": {
      "image/png": "[encoded data removed]",
      "text/plain": [
       "<Figure size 432x288 with 1 Axes>"
      ]
     },
     "metadata": {
      "needs_background": "light"
     },
     "output_type": "display_data"
    }
   ],
   "source": [
    "# Implement Lasso Regression.\n",
    "# Perform cross validation to find a good value for your hyper-parameter.\n",
    "# After choosing a good value for your hyper-parameter, use both train and val data for final training purpose of your model.\n",
    "# Make preditions on both training(train+val) and test data.\n",
    "from sklearn.linear_model import Lasso\n",
    "\n",
    "alphas = np.arange(0.00001,1000, 1)\n",
    "\n",
    "mse_list = []\n",
    "optimal_alpha = None\n",
    "optimal_val_mse = np.inf\n",
    "\n",
    "for alpha in alphas:\n",
    "    Regressor = Lasso(alpha=alpha).fit(X_train,y_train)\n",
    "    pred_val = Regressor.predict(X_val)\n",
    "    mse_error = mean_squared_error(pred_val, y_val)\n",
    "    mse_list.append(mse_error)\n",
    "    if mse_error < optimal_val_mse:\n",
    "        optimal_alpha = alpha\n",
    "        optimal_val_mse = mse_error\n",
    "        \n",
    "plt.plot(mse_list)\n",
    "plt.title('Comparing Alpha to mean squared error \\n Optimal Alpha for Lasso Regression is {}'.format(optimal_alpha))\n",
    "plt.xlabel('Alpha')\n",
    "plt.ylabel('Mean Squared Error')\n",
    "plt.show()"
   ]
  },
  {
   "cell_type": "markdown",
   "metadata": {},
   "source": [
    "Train on the entire data (Train + Val)"
   ]
  },
  {
   "cell_type": "code",
   "execution_count": 10,
   "metadata": {},
   "outputs": [
    {
     "name": "stdout",
     "output_type": "stream",
     "text": [
      "{'model': 'Lasso Regression', 'train_mse': 22988.17, 'test mse': 22040.48, 'train_mae': 120.85, 'test_mae': 118.72}\n"
     ]
    }
   ],
   "source": [
    "Regressor = Lasso(alpha=optimal_alpha).fit(X_tv, y_tv)\n",
    "lasso_predict_tv = Regressor.predict(X_tv)\n",
    "lasso_predict_test = Regressor.predict(X_test)\n",
    "\n",
    "lasso_net_results = {'model':'Lasso Regression',\n",
    "                    'train_mse' : round(mean_squared_error(y_tv, lasso_predict_tv),2),\n",
    "                      'test mse' : round(mean_squared_error(y_test, lasso_predict_test),2),\n",
    "                      'train_mae':round(mean_absolute_error(y_tv, lasso_predict_tv),2),\n",
    "                      'test_mae':round(mean_absolute_error(y_test, lasso_predict_test),2)}\n",
    "print(lasso_net_results)"
   ]
  },
  {
   "cell_type": "markdown",
   "metadata": {},
   "source": [
    "#### 4.4. ElasticNet Regression (8 points)"
   ]
  },
  {
   "cell_type": "code",
   "execution_count": 11,
   "metadata": {},
   "outputs": [
    {
     "name": "stdout",
     "output_type": "stream",
     "text": [
      "optimal alpha : 99.00001, optimal l1 ratio: 1.0\n"
     ]
    }
   ],
   "source": [
    "# Implement ElasticNet Regression.\n",
    "# Perform cross validation to find a good value for your hyper-parameters.\n",
    "# After choosing a good value for your hyper-parameter, use both train and val data for final training purpose of your model.\n",
    "# Make preditions on both training(train+val) and test data.\n",
    "from sklearn.linear_model import ElasticNet\n",
    "\n",
    "alphas = np.arange(0.00001,120, 1)\n",
    "l1_ratios = np.arange(0,1.01,0.1)\n",
    "\n",
    "mse_list = []\n",
    "optimal_alpha = None\n",
    "optimal_l1_ratio = None\n",
    "optimal_val_mse = np.inf\n",
    "\n",
    "\n",
    "for alpha in alphas:\n",
    "    for l1_ratio in l1_ratios:\n",
    "        Regressor = ElasticNet(alpha=alpha, l1_ratio=l1_ratio, max_iter=99999).fit(X_train,y_train)\n",
    "        pred_val = Regressor.predict(X_val)\n",
    "        mse_error = mean_squared_error(pred_val, y_val)\n",
    "        mse_list.append(mse_error)\n",
    "        if mse_error < optimal_val_mse:\n",
    "            optimal_alpha = alpha\n",
    "            optimal_l1_ratio = l1_ratio\n",
    "            optimal_val_mse = mse_error\n",
    "print('optimal alpha : {}, optimal l1 ratio: {}'.format(optimal_alpha, optimal_l1_ratio))"
   ]
  },
  {
   "cell_type": "code",
   "execution_count": 12,
   "metadata": {},
   "outputs": [
    {
     "name": "stdout",
     "output_type": "stream",
     "text": [
      "{'model': 'Elasticnet Regression', 'train_mse': 22988.17, 'test mse': 22040.48, 'train_mae': 120.85, 'test_mae': 118.72}\n"
     ]
    }
   ],
   "source": [
    "Regressor = ElasticNet(alpha=optimal_alpha, l1_ratio=optimal_l1_ratio).fit(X_tv, y_tv)\n",
    "en_predict_tv = Regressor.predict(X_tv)\n",
    "en_predict_test = Regressor.predict(X_test)\n",
    "\n",
    "elastic_net_results = {'model': 'Elasticnet Regression',\n",
    "                    'train_mse' : round(mean_squared_error(y_tv, en_predict_tv),2),\n",
    "                      'test mse' : round(mean_squared_error(y_test, en_predict_test),2),\n",
    "                      'train_mae':round(mean_absolute_error(y_tv, en_predict_tv),2),\n",
    "                      'test_mae':round(mean_absolute_error(y_test, en_predict_test),2)}\n",
    "print(elastic_net_results)"
   ]
  },
  {
   "cell_type": "markdown",
   "metadata": {},
   "source": [
    "### 5. Analysis (8 points)"
   ]
  },
  {
   "cell_type": "code",
   "execution_count": 13,
   "metadata": {},
   "outputs": [
    {
     "data": {
      "text/html": [
       "<div>\n",
       "<style scoped>\n",
       "    .dataframe tbody tr th:only-of-type {\n",
       "        vertical-align: middle;\n",
       "    }\n",
       "\n",
       "    .dataframe tbody tr th {\n",
       "        vertical-align: top;\n",
       "    }\n",
       "\n",
       "    .dataframe thead th {\n",
       "        text-align: right;\n",
       "    }\n",
       "</style>\n",
       "<table border=\"1\" class=\"dataframe\">\n",
       "  <thead>\n",
       "    <tr style=\"text-align: right;\">\n",
       "      <th></th>\n",
       "      <th>x1</th>\n",
       "      <th>x2</th>\n",
       "      <th>actual</th>\n",
       "      <th>Linear_regression</th>\n",
       "      <th>lasso_regression</th>\n",
       "      <th>ridge_regression</th>\n",
       "      <th>elasticnet_regression</th>\n",
       "    </tr>\n",
       "  </thead>\n",
       "  <tbody>\n",
       "    <tr>\n",
       "      <th>1801</th>\n",
       "      <td>-16.90</td>\n",
       "      <td>38.71</td>\n",
       "      <td>66.12</td>\n",
       "      <td>61.235630</td>\n",
       "      <td>60.929189</td>\n",
       "      <td>61.177472</td>\n",
       "      <td>60.929189</td>\n",
       "    </tr>\n",
       "    <tr>\n",
       "      <th>1190</th>\n",
       "      <td>-19.19</td>\n",
       "      <td>-47.20</td>\n",
       "      <td>-572.89</td>\n",
       "      <td>-576.474002</td>\n",
       "      <td>-574.365079</td>\n",
       "      <td>-576.673464</td>\n",
       "      <td>-574.365079</td>\n",
       "    </tr>\n",
       "    <tr>\n",
       "      <th>1817</th>\n",
       "      <td>-16.78</td>\n",
       "      <td>13.97</td>\n",
       "      <td>-94.71</td>\n",
       "      <td>-112.489283</td>\n",
       "      <td>-112.153647</td>\n",
       "      <td>-112.625511</td>\n",
       "      <td>-112.153647</td>\n",
       "    </tr>\n",
       "    <tr>\n",
       "      <th>251</th>\n",
       "      <td>-47.57</td>\n",
       "      <td>26.80</td>\n",
       "      <td>-306.84</td>\n",
       "      <td>-413.460170</td>\n",
       "      <td>-411.348882</td>\n",
       "      <td>-412.082437</td>\n",
       "      <td>-411.348882</td>\n",
       "    </tr>\n",
       "    <tr>\n",
       "      <th>2505</th>\n",
       "      <td>34.27</td>\n",
       "      <td>23.19</td>\n",
       "      <td>580.10</td>\n",
       "      <td>602.521612</td>\n",
       "      <td>599.111693</td>\n",
       "      <td>599.964358</td>\n",
       "      <td>599.111693</td>\n",
       "    </tr>\n",
       "    <tr>\n",
       "      <th>1117</th>\n",
       "      <td>-27.86</td>\n",
       "      <td>46.96</td>\n",
       "      <td>-34.05</td>\n",
       "      <td>-19.808152</td>\n",
       "      <td>-19.579344</td>\n",
       "      <td>-19.316636</td>\n",
       "      <td>-19.579344</td>\n",
       "    </tr>\n",
       "    <tr>\n",
       "      <th>1411</th>\n",
       "      <td>-38.08</td>\n",
       "      <td>43.70</td>\n",
       "      <td>-81.37</td>\n",
       "      <td>-172.968197</td>\n",
       "      <td>-171.952371</td>\n",
       "      <td>-171.996134</td>\n",
       "      <td>-171.952371</td>\n",
       "    </tr>\n",
       "    <tr>\n",
       "      <th>2113</th>\n",
       "      <td>19.99</td>\n",
       "      <td>48.67</td>\n",
       "      <td>552.60</td>\n",
       "      <td>601.278257</td>\n",
       "      <td>598.178510</td>\n",
       "      <td>599.480243</td>\n",
       "      <td>598.178510</td>\n",
       "    </tr>\n",
       "    <tr>\n",
       "      <th>408</th>\n",
       "      <td>2.82</td>\n",
       "      <td>-11.35</td>\n",
       "      <td>-24.39</td>\n",
       "      <td>-42.406417</td>\n",
       "      <td>-42.750232</td>\n",
       "      <td>-43.556525</td>\n",
       "      <td>-42.750232</td>\n",
       "    </tr>\n",
       "    <tr>\n",
       "      <th>2579</th>\n",
       "      <td>7.45</td>\n",
       "      <td>65.13</td>\n",
       "      <td>538.47</td>\n",
       "      <td>558.283905</td>\n",
       "      <td>555.612023</td>\n",
       "      <td>557.135328</td>\n",
       "      <td>555.612023</td>\n",
       "    </tr>\n",
       "  </tbody>\n",
       "</table>\n",
       "</div>"
      ],
      "text/plain": [
       "         x1     x2  actual  Linear_regression  lasso_regression  \\\n",
       "1801 -16.90  38.71   66.12          61.235630         60.929189   \n",
       "1190 -19.19 -47.20 -572.89        -576.474002       -574.365079   \n",
       "1817 -16.78  13.97  -94.71        -112.489283       -112.153647   \n",
       "251  -47.57  26.80 -306.84        -413.460170       -411.348882   \n",
       "2505  34.27  23.19  580.10         602.521612        599.111693   \n",
       "1117 -27.86  46.96  -34.05         -19.808152        -19.579344   \n",
       "1411 -38.08  43.70  -81.37        -172.968197       -171.952371   \n",
       "2113  19.99  48.67  552.60         601.278257        598.178510   \n",
       "408    2.82 -11.35  -24.39         -42.406417        -42.750232   \n",
       "2579   7.45  65.13  538.47         558.283905        555.612023   \n",
       "\n",
       "      ridge_regression  elasticnet_regression  \n",
       "1801         61.177472              60.929189  \n",
       "1190       -576.673464            -574.365079  \n",
       "1817       -112.625511            -112.153647  \n",
       "251        -412.082437            -411.348882  \n",
       "2505        599.964358             599.111693  \n",
       "1117        -19.316636             -19.579344  \n",
       "1411       -171.996134            -171.952371  \n",
       "2113        599.480243             598.178510  \n",
       "408         -43.556525             -42.750232  \n",
       "2579        557.135328             555.612023  "
      ]
     },
     "execution_count": 13,
     "metadata": {},
     "output_type": "execute_result"
    }
   ],
   "source": [
    "# Write down the actual value along with the preditions from all the regression models, for the first 10 points in test data.\n",
    "# Find both RMSE and MAE for all the regression models on both training(train+val) and testing data.\n",
    "\n",
    "sample = X_test[0:10]\n",
    "sample['actual'] = y_test[0:10]\n",
    "sample['Linear_regression'] = lr_predict_test[0:10]\n",
    "sample['lasso_regression'] = lasso_predict_test[0:10]\n",
    "sample['ridge_regression'] =ridge_predict_test[0:10]\n",
    "sample['elasticnet_regression'] = en_predict_test[0:10]\n",
    "sample"
   ]
  },
  {
   "cell_type": "code",
   "execution_count": 14,
   "metadata": {},
   "outputs": [
    {
     "data": {
      "text/html": [
       "<div>\n",
       "<style scoped>\n",
       "    .dataframe tbody tr th:only-of-type {\n",
       "        vertical-align: middle;\n",
       "    }\n",
       "\n",
       "    .dataframe tbody tr th {\n",
       "        vertical-align: top;\n",
       "    }\n",
       "\n",
       "    .dataframe thead th {\n",
       "        text-align: right;\n",
       "    }\n",
       "</style>\n",
       "<table border=\"1\" class=\"dataframe\">\n",
       "  <thead>\n",
       "    <tr style=\"text-align: right;\">\n",
       "      <th></th>\n",
       "      <th>model</th>\n",
       "      <th>train_mse</th>\n",
       "      <th>test mse</th>\n",
       "      <th>train_mae</th>\n",
       "      <th>test_mae</th>\n",
       "    </tr>\n",
       "  </thead>\n",
       "  <tbody>\n",
       "    <tr>\n",
       "      <th>0</th>\n",
       "      <td>Linear Regression</td>\n",
       "      <td>22978.79</td>\n",
       "      <td>22044.49</td>\n",
       "      <td>120.78</td>\n",
       "      <td>118.73</td>\n",
       "    </tr>\n",
       "    <tr>\n",
       "      <th>1</th>\n",
       "      <td>Lasso Regression</td>\n",
       "      <td>22988.17</td>\n",
       "      <td>22040.48</td>\n",
       "      <td>120.85</td>\n",
       "      <td>118.72</td>\n",
       "    </tr>\n",
       "    <tr>\n",
       "      <th>2</th>\n",
       "      <td>Ridge Regression</td>\n",
       "      <td>22981.26</td>\n",
       "      <td>22053.17</td>\n",
       "      <td>120.81</td>\n",
       "      <td>118.78</td>\n",
       "    </tr>\n",
       "    <tr>\n",
       "      <th>3</th>\n",
       "      <td>Elasticnet Regression</td>\n",
       "      <td>22988.17</td>\n",
       "      <td>22040.48</td>\n",
       "      <td>120.85</td>\n",
       "      <td>118.72</td>\n",
       "    </tr>\n",
       "  </tbody>\n",
       "</table>\n",
       "</div>"
      ],
      "text/plain": [
       "                   model  train_mse  test mse  train_mae  test_mae\n",
       "0      Linear Regression   22978.79  22044.49     120.78    118.73\n",
       "1       Lasso Regression   22988.17  22040.48     120.85    118.72\n",
       "2       Ridge Regression   22981.26  22053.17     120.81    118.78\n",
       "3  Elasticnet Regression   22988.17  22040.48     120.85    118.72"
      ]
     },
     "execution_count": 14,
     "metadata": {},
     "output_type": "execute_result"
    }
   ],
   "source": [
    "pd.DataFrame([lr_net_results, lasso_net_results, ridge_net_results,elastic_net_results])"
   ]
  },
  {
   "cell_type": "markdown",
   "metadata": {},
   "source": [
    "### 6. Final Observations (2 points)"
   ]
  },
  {
   "cell_type": "markdown",
   "metadata": {},
   "source": [
    "####  Write down your final conclusions/observations.\n",
    "\n",
    "Lasso regression outperforms every other model and we notice that the ridge regression performs \n",
    "worse than linear regression in both training and test. Elasticnet regression which is a combination of Lasso and Ridge regression has a hyperparameter L1 Ratio which on grid search turns out to be 1 i.e Elasticnet Regression is equivalent to Lasso regression."
   ]
  }
 ],
 "metadata": {
  "kernelspec": {
   "display_name": "Python 3",
   "language": "python",
   "name": "python3"
  },
  "language_info": {
   "codemirror_mode": {
    "name": "ipython",
    "version": 3
   },
   "file_extension": ".py",
   "mimetype": "text/x-python",
   "name": "python",
   "nbconvert_exporter": "python",
   "pygments_lexer": "ipython3",
   "version": "3.8.2"
  }
 },
 "nbformat": 4,
 "nbformat_minor": 4
}
