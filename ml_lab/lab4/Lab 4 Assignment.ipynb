{
 "cells": [
  {
   "cell_type": "markdown",
   "metadata": {},
   "source": [
    "Import libraries and load the file"
   ]
  },
  {
   "cell_type": "code",
   "execution_count": 61,
   "metadata": {},
   "outputs": [],
   "source": [
    "import numpy as np\n",
    "import pandas as pd\n",
    "import seaborn as sns\n",
    "import matplotlib.pyplot as plt\n",
    "from sklearn.model_selection import train_test_split,GridSearchCV\n",
    "from sklearn.neural_network import MLPClassifier\n",
    "from sklearn.preprocessing import StandardScaler\n",
    "from sklearn.metrics import accuracy_score, confusion_matrix\n",
    "from sklearn.linear_model import LogisticRegression\n",
    "from sklearn.tree import DecisionTreeClassifier"
   ]
  },
  {
   "cell_type": "code",
   "execution_count": 14,
   "metadata": {},
   "outputs": [],
   "source": [
    "df = pd.read_csv('data.csv')"
   ]
  },
  {
   "cell_type": "code",
   "execution_count": 15,
   "metadata": {},
   "outputs": [],
   "source": [
    "hex_features =[ i for i in df.columns if i not in ('Unnamed: 0', 'ID','Class','size', '??')]\n",
    "other_features = ['??','size']\n",
    "dependent_variable = ['Class']"
   ]
  },
  {
   "cell_type": "markdown",
   "metadata": {},
   "source": [
    "#### Exploratory Data Analysis\n",
    "Since our dependent variable is Class, lets try to compare the other features with it."
   ]
  },
  {
   "cell_type": "code",
   "execution_count": 16,
   "metadata": {},
   "outputs": [
    {
     "data": {
      "image/png": "[encoded data removed]",
      "text/plain": [
       "<Figure size 1152x432 with 1 Axes>"
      ]
     },
     "metadata": {
      "needs_background": "light"
     },
     "output_type": "display_data"
    }
   ],
   "source": [
    "fig, ax = plt.subplots(figsize=(16,6))\n",
    "sns.boxplot(x=\"Class\", y=\"size\", data=df,ax=ax , showfliers = False)\n",
    "plt.title('Compare the size of the file to the Class')\n",
    "plt.ylabel('Size of the file')\n",
    "plt.show()"
   ]
  },
  {
   "cell_type": "code",
   "execution_count": 17,
   "metadata": {},
   "outputs": [
    {
     "data": {
      "image/png": "[encoded data removed]",
      "text/plain": [
       "<Figure size 1152x432 with 1 Axes>"
      ]
     },
     "metadata": {
      "needs_background": "light"
     },
     "output_type": "display_data"
    }
   ],
   "source": [
    "fig, ax = plt.subplots(figsize=(16,6))\n",
    "sns.boxplot(x=\"Class\", y=\"??\", data=df,ax=ax , showfliers = False)\n",
    "plt.title('Compare the corruption of the file to the Class')\n",
    "plt.ylabel('Corruption of the file')\n",
    "plt.show()"
   ]
  },
  {
   "cell_type": "code",
   "execution_count": 18,
   "metadata": {},
   "outputs": [
    {
     "data": {
      "text/html": [
       "<div>\n",
       "<style scoped>\n",
       "    .dataframe tbody tr th:only-of-type {\n",
       "        vertical-align: middle;\n",
       "    }\n",
       "\n",
       "    .dataframe tbody tr th {\n",
       "        vertical-align: top;\n",
       "    }\n",
       "\n",
       "    .dataframe thead th {\n",
       "        text-align: right;\n",
       "    }\n",
       "</style>\n",
       "<table border=\"1\" class=\"dataframe\">\n",
       "  <thead>\n",
       "    <tr style=\"text-align: right;\">\n",
       "      <th></th>\n",
       "      <th>0</th>\n",
       "      <th>1</th>\n",
       "      <th>2</th>\n",
       "      <th>3</th>\n",
       "      <th>4</th>\n",
       "      <th>5</th>\n",
       "      <th>6</th>\n",
       "      <th>7</th>\n",
       "      <th>8</th>\n",
       "      <th>9</th>\n",
       "      <th>...</th>\n",
       "      <th>f6</th>\n",
       "      <th>f7</th>\n",
       "      <th>f8</th>\n",
       "      <th>f9</th>\n",
       "      <th>fa</th>\n",
       "      <th>fb</th>\n",
       "      <th>fc</th>\n",
       "      <th>fd</th>\n",
       "      <th>fe</th>\n",
       "      <th>ff</th>\n",
       "    </tr>\n",
       "    <tr>\n",
       "      <th>Class</th>\n",
       "      <th></th>\n",
       "      <th></th>\n",
       "      <th></th>\n",
       "      <th></th>\n",
       "      <th></th>\n",
       "      <th></th>\n",
       "      <th></th>\n",
       "      <th></th>\n",
       "      <th></th>\n",
       "      <th></th>\n",
       "      <th></th>\n",
       "      <th></th>\n",
       "      <th></th>\n",
       "      <th></th>\n",
       "      <th></th>\n",
       "      <th></th>\n",
       "      <th></th>\n",
       "      <th></th>\n",
       "      <th></th>\n",
       "      <th></th>\n",
       "      <th></th>\n",
       "    </tr>\n",
       "  </thead>\n",
       "  <tbody>\n",
       "    <tr>\n",
       "      <th>1</th>\n",
       "      <td>65897.035691</td>\n",
       "      <td>4412.489293</td>\n",
       "      <td>2346.030500</td>\n",
       "      <td>2173.881895</td>\n",
       "      <td>3237.161583</td>\n",
       "      <td>1580.265412</td>\n",
       "      <td>1360.637249</td>\n",
       "      <td>1335.080467</td>\n",
       "      <td>3223.550292</td>\n",
       "      <td>1098.412070</td>\n",
       "      <td>...</td>\n",
       "      <td>1005.283582</td>\n",
       "      <td>903.776119</td>\n",
       "      <td>1450.686567</td>\n",
       "      <td>840.167424</td>\n",
       "      <td>753.145360</td>\n",
       "      <td>851.051914</td>\n",
       "      <td>1709.206360</td>\n",
       "      <td>1065.271901</td>\n",
       "      <td>1370.096042</td>\n",
       "      <td>16177.737184</td>\n",
       "    </tr>\n",
       "    <tr>\n",
       "      <th>2</th>\n",
       "      <td>72753.119855</td>\n",
       "      <td>22236.648910</td>\n",
       "      <td>35678.728410</td>\n",
       "      <td>23386.773204</td>\n",
       "      <td>29764.191283</td>\n",
       "      <td>11201.546812</td>\n",
       "      <td>26639.945117</td>\n",
       "      <td>10157.450363</td>\n",
       "      <td>12656.197740</td>\n",
       "      <td>6706.054883</td>\n",
       "      <td>...</td>\n",
       "      <td>2357.183616</td>\n",
       "      <td>7053.750605</td>\n",
       "      <td>6779.592010</td>\n",
       "      <td>2653.932607</td>\n",
       "      <td>3812.357546</td>\n",
       "      <td>1733.359161</td>\n",
       "      <td>7349.487490</td>\n",
       "      <td>3892.965295</td>\n",
       "      <td>6476.071832</td>\n",
       "      <td>38779.420500</td>\n",
       "    </tr>\n",
       "    <tr>\n",
       "      <th>3</th>\n",
       "      <td>10617.617947</td>\n",
       "      <td>5448.602311</td>\n",
       "      <td>3527.649218</td>\n",
       "      <td>3610.325629</td>\n",
       "      <td>3595.171992</td>\n",
       "      <td>3553.383753</td>\n",
       "      <td>3534.159415</td>\n",
       "      <td>3552.308973</td>\n",
       "      <td>3547.169952</td>\n",
       "      <td>3548.658396</td>\n",
       "      <td>...</td>\n",
       "      <td>3479.734534</td>\n",
       "      <td>3483.701903</td>\n",
       "      <td>3476.004419</td>\n",
       "      <td>3487.718219</td>\n",
       "      <td>3481.684908</td>\n",
       "      <td>3482.984364</td>\n",
       "      <td>3492.618967</td>\n",
       "      <td>3506.389871</td>\n",
       "      <td>3499.400748</td>\n",
       "      <td>6670.020394</td>\n",
       "    </tr>\n",
       "    <tr>\n",
       "      <th>4</th>\n",
       "      <td>4853.290526</td>\n",
       "      <td>639.322105</td>\n",
       "      <td>617.096842</td>\n",
       "      <td>710.953684</td>\n",
       "      <td>711.520000</td>\n",
       "      <td>596.444211</td>\n",
       "      <td>587.016842</td>\n",
       "      <td>590.178947</td>\n",
       "      <td>614.372632</td>\n",
       "      <td>590.602105</td>\n",
       "      <td>...</td>\n",
       "      <td>584.547368</td>\n",
       "      <td>619.644211</td>\n",
       "      <td>608.720000</td>\n",
       "      <td>584.572632</td>\n",
       "      <td>613.713684</td>\n",
       "      <td>589.244211</td>\n",
       "      <td>618.844211</td>\n",
       "      <td>583.745263</td>\n",
       "      <td>586.216842</td>\n",
       "      <td>916.671579</td>\n",
       "    </tr>\n",
       "    <tr>\n",
       "      <th>5</th>\n",
       "      <td>15975.571429</td>\n",
       "      <td>1532.238095</td>\n",
       "      <td>1426.952381</td>\n",
       "      <td>1242.047619</td>\n",
       "      <td>1431.095238</td>\n",
       "      <td>1195.738095</td>\n",
       "      <td>1018.309524</td>\n",
       "      <td>990.285714</td>\n",
       "      <td>1448.571429</td>\n",
       "      <td>1026.523810</td>\n",
       "      <td>...</td>\n",
       "      <td>821.285714</td>\n",
       "      <td>851.738095</td>\n",
       "      <td>911.761905</td>\n",
       "      <td>816.714286</td>\n",
       "      <td>825.333333</td>\n",
       "      <td>837.476190</td>\n",
       "      <td>909.785714</td>\n",
       "      <td>828.928571</td>\n",
       "      <td>878.428571</td>\n",
       "      <td>2300.595238</td>\n",
       "    </tr>\n",
       "    <tr>\n",
       "      <th>6</th>\n",
       "      <td>59512.460719</td>\n",
       "      <td>2013.996005</td>\n",
       "      <td>1585.754993</td>\n",
       "      <td>1642.719041</td>\n",
       "      <td>1703.364847</td>\n",
       "      <td>1463.556591</td>\n",
       "      <td>1446.197071</td>\n",
       "      <td>1464.645806</td>\n",
       "      <td>1633.342210</td>\n",
       "      <td>1397.486019</td>\n",
       "      <td>...</td>\n",
       "      <td>1350.163782</td>\n",
       "      <td>1402.282290</td>\n",
       "      <td>1427.340879</td>\n",
       "      <td>1306.966711</td>\n",
       "      <td>1310.294274</td>\n",
       "      <td>1316.596538</td>\n",
       "      <td>1396.081225</td>\n",
       "      <td>1308.179760</td>\n",
       "      <td>1412.990679</td>\n",
       "      <td>13485.719041</td>\n",
       "    </tr>\n",
       "    <tr>\n",
       "      <th>7</th>\n",
       "      <td>53003.412060</td>\n",
       "      <td>4743.359296</td>\n",
       "      <td>4133.198492</td>\n",
       "      <td>1726.899497</td>\n",
       "      <td>4399.497487</td>\n",
       "      <td>2092.811558</td>\n",
       "      <td>1023.389447</td>\n",
       "      <td>570.522613</td>\n",
       "      <td>3743.494975</td>\n",
       "      <td>1819.934673</td>\n",
       "      <td>...</td>\n",
       "      <td>146.050251</td>\n",
       "      <td>130.881910</td>\n",
       "      <td>204.271357</td>\n",
       "      <td>108.065327</td>\n",
       "      <td>203.386935</td>\n",
       "      <td>116.914573</td>\n",
       "      <td>173.409548</td>\n",
       "      <td>133.663317</td>\n",
       "      <td>210.092965</td>\n",
       "      <td>1581.733668</td>\n",
       "    </tr>\n",
       "    <tr>\n",
       "      <th>8</th>\n",
       "      <td>30418.707655</td>\n",
       "      <td>1052.874593</td>\n",
       "      <td>513.080619</td>\n",
       "      <td>571.418567</td>\n",
       "      <td>731.506515</td>\n",
       "      <td>452.742671</td>\n",
       "      <td>341.013029</td>\n",
       "      <td>349.821661</td>\n",
       "      <td>558.698697</td>\n",
       "      <td>309.186482</td>\n",
       "      <td>...</td>\n",
       "      <td>432.702769</td>\n",
       "      <td>556.423453</td>\n",
       "      <td>759.384365</td>\n",
       "      <td>406.713355</td>\n",
       "      <td>382.565961</td>\n",
       "      <td>409.111564</td>\n",
       "      <td>731.783388</td>\n",
       "      <td>367.318404</td>\n",
       "      <td>429.824104</td>\n",
       "      <td>3752.257329</td>\n",
       "    </tr>\n",
       "    <tr>\n",
       "      <th>9</th>\n",
       "      <td>166889.059230</td>\n",
       "      <td>4725.291214</td>\n",
       "      <td>2690.278381</td>\n",
       "      <td>2156.510365</td>\n",
       "      <td>3602.853899</td>\n",
       "      <td>3845.237907</td>\n",
       "      <td>3100.446199</td>\n",
       "      <td>1947.154985</td>\n",
       "      <td>4086.587364</td>\n",
       "      <td>1744.289240</td>\n",
       "      <td>...</td>\n",
       "      <td>1788.676209</td>\n",
       "      <td>1574.211254</td>\n",
       "      <td>2264.718657</td>\n",
       "      <td>1781.786772</td>\n",
       "      <td>1620.374136</td>\n",
       "      <td>1750.282330</td>\n",
       "      <td>2037.403751</td>\n",
       "      <td>2369.172754</td>\n",
       "      <td>2850.069102</td>\n",
       "      <td>14901.444225</td>\n",
       "    </tr>\n",
       "  </tbody>\n",
       "</table>\n",
       "<p>9 rows × 256 columns</p>\n",
       "</div>"
      ],
      "text/plain": [
       "                   0             1             2             3             4  \\\n",
       "Class                                                                          \n",
       "1       65897.035691   4412.489293   2346.030500   2173.881895   3237.161583   \n",
       "2       72753.119855  22236.648910  35678.728410  23386.773204  29764.191283   \n",
       "3       10617.617947   5448.602311   3527.649218   3610.325629   3595.171992   \n",
       "4        4853.290526    639.322105    617.096842    710.953684    711.520000   \n",
       "5       15975.571429   1532.238095   1426.952381   1242.047619   1431.095238   \n",
       "6       59512.460719   2013.996005   1585.754993   1642.719041   1703.364847   \n",
       "7       53003.412060   4743.359296   4133.198492   1726.899497   4399.497487   \n",
       "8       30418.707655   1052.874593    513.080619    571.418567    731.506515   \n",
       "9      166889.059230   4725.291214   2690.278381   2156.510365   3602.853899   \n",
       "\n",
       "                  5             6             7             8            9  \\\n",
       "Class                                                                        \n",
       "1       1580.265412   1360.637249   1335.080467   3223.550292  1098.412070   \n",
       "2      11201.546812  26639.945117  10157.450363  12656.197740  6706.054883   \n",
       "3       3553.383753   3534.159415   3552.308973   3547.169952  3548.658396   \n",
       "4        596.444211    587.016842    590.178947    614.372632   590.602105   \n",
       "5       1195.738095   1018.309524    990.285714   1448.571429  1026.523810   \n",
       "6       1463.556591   1446.197071   1464.645806   1633.342210  1397.486019   \n",
       "7       2092.811558   1023.389447    570.522613   3743.494975  1819.934673   \n",
       "8        452.742671    341.013029    349.821661    558.698697   309.186482   \n",
       "9       3845.237907   3100.446199   1947.154985   4086.587364  1744.289240   \n",
       "\n",
       "       ...           f6           f7           f8           f9           fa  \\\n",
       "Class  ...                                                                    \n",
       "1      ...  1005.283582   903.776119  1450.686567   840.167424   753.145360   \n",
       "2      ...  2357.183616  7053.750605  6779.592010  2653.932607  3812.357546   \n",
       "3      ...  3479.734534  3483.701903  3476.004419  3487.718219  3481.684908   \n",
       "4      ...   584.547368   619.644211   608.720000   584.572632   613.713684   \n",
       "5      ...   821.285714   851.738095   911.761905   816.714286   825.333333   \n",
       "6      ...  1350.163782  1402.282290  1427.340879  1306.966711  1310.294274   \n",
       "7      ...   146.050251   130.881910   204.271357   108.065327   203.386935   \n",
       "8      ...   432.702769   556.423453   759.384365   406.713355   382.565961   \n",
       "9      ...  1788.676209  1574.211254  2264.718657  1781.786772  1620.374136   \n",
       "\n",
       "                fb           fc           fd           fe            ff  \n",
       "Class                                                                    \n",
       "1       851.051914  1709.206360  1065.271901  1370.096042  16177.737184  \n",
       "2      1733.359161  7349.487490  3892.965295  6476.071832  38779.420500  \n",
       "3      3482.984364  3492.618967  3506.389871  3499.400748   6670.020394  \n",
       "4       589.244211   618.844211   583.745263   586.216842    916.671579  \n",
       "5       837.476190   909.785714   828.928571   878.428571   2300.595238  \n",
       "6      1316.596538  1396.081225  1308.179760  1412.990679  13485.719041  \n",
       "7       116.914573   173.409548   133.663317   210.092965   1581.733668  \n",
       "8       409.111564   731.783388   367.318404   429.824104   3752.257329  \n",
       "9      1750.282330  2037.403751  2369.172754  2850.069102  14901.444225  \n",
       "\n",
       "[9 rows x 256 columns]"
      ]
     },
     "execution_count": 18,
     "metadata": {},
     "output_type": "execute_result"
    }
   ],
   "source": [
    "df[hex_features + dependent_variable].groupby('Class').mean()"
   ]
  },
  {
   "cell_type": "markdown",
   "metadata": {},
   "source": [
    "#### Preprocessing"
   ]
  },
  {
   "cell_type": "code",
   "execution_count": 19,
   "metadata": {},
   "outputs": [],
   "source": [
    "# df['ratio_of_corruption'] = df[hex_features].sum(axis = 1)/ (df['??'] + df[hex_features].sum(axis = 1))\n",
    "# df.groupby('Class').ratio_of_corruption.describe()\n",
    "\n",
    "\n",
    "X, y = df[hex_features + other_features], df[dependent_variable[0]]\n",
    "scaler = StandardScaler()\n",
    "scaler.fit(X)\n",
    "X = scaler.transform(X)"
   ]
  },
  {
   "cell_type": "markdown",
   "metadata": {},
   "source": [
    "#### Train Test split"
   ]
  },
  {
   "cell_type": "code",
   "execution_count": 20,
   "metadata": {},
   "outputs": [],
   "source": [
    "features = hex_features + other_features #+ ['ratio_of_corruption']\n",
    "X_train, X_test, y_train, y_test = train_test_split( X, y, test_size=0.2, random_state=42, stratify = y)"
   ]
  },
  {
   "cell_type": "markdown",
   "metadata": {},
   "source": [
    "#### Model 1 : Multi Layered Perceptron"
   ]
  },
  {
   "cell_type": "code",
   "execution_count": 33,
   "metadata": {},
   "outputs": [],
   "source": [
    "clf = MLPClassifier(random_state=1, max_iter=300).fit(X_train, y_train)\n",
    "mlp_pred  = clf.predict(X_test)"
   ]
  },
  {
   "cell_type": "code",
   "execution_count": 35,
   "metadata": {},
   "outputs": [
    {
     "name": "stdout",
     "output_type": "stream",
     "text": [
      "accuracy = 0.952161913523459\n"
     ]
    }
   ],
   "source": [
    "print(\"accuracy = {}\".format(accuracy_score(mlp_pred, y_test)))"
   ]
  },
  {
   "cell_type": "code",
   "execution_count": 36,
   "metadata": {},
   "outputs": [
    {
     "data": {
      "text/plain": [
       "array([[297,   3,   1,   1,   1,   0,   0,   3,   2],\n",
       "       [ 15, 451,   1,   0,   0,   5,   3,  13,   8],\n",
       "       [  0,   0, 586,   0,   0,   2,   0,   0,   0],\n",
       "       [  2,   0,   0,  92,   0,   1,   0,   0,   0],\n",
       "       [  1,   0,   0,   0,   7,   0,   0,   0,   0],\n",
       "       [  3,   0,   0,   1,   1, 143,   0,   2,   0],\n",
       "       [  1,   2,   0,   0,   0,   2,  75,   0,   0],\n",
       "       [  6,   0,   0,   0,   0,   3,   0, 236,   1],\n",
       "       [  7,   8,   1,   0,   0,   2,   0,   2, 183]])"
      ]
     },
     "execution_count": 36,
     "metadata": {},
     "output_type": "execute_result"
    }
   ],
   "source": [
    "confusion_matrix(y_test, mlp_pred)"
   ]
  },
  {
   "cell_type": "markdown",
   "metadata": {},
   "source": [
    "Lets dig deeper on Model 1 by using grid search."
   ]
  },
  {
   "cell_type": "code",
   "execution_count": 51,
   "metadata": {},
   "outputs": [
    {
     "name": "stdout",
     "output_type": "stream",
     "text": [
      "Fitting 5 folds for each of 5 candidates, totalling 25 fits\n"
     ]
    },
    {
     "name": "stderr",
     "output_type": "stream",
     "text": [
      "[Parallel(n_jobs=3)]: Using backend LokyBackend with 3 concurrent workers.\n",
      "[Parallel(n_jobs=3)]: Done  25 out of  25 | elapsed:  5.1min finished\n"
     ]
    },
    {
     "name": "stdout",
     "output_type": "stream",
     "text": [
      "Best Params: {'hidden_layer_sizes': (256, 128, 64, 32)}\n"
     ]
    }
   ],
   "source": [
    "parameters = {'hidden_layer_sizes':[(100,),(256,),(512,), (128,64,32), (256,128,64,32)]}\n",
    "mlp = MLPClassifier(random_state=1, max_iter=500)\n",
    "clf = GridSearchCV(mlp, parameters, verbose = 2, n_jobs= 3)\n",
    "clf.fit(X_train, y_train)\n",
    "\n",
    "print('Best Params: {}'.format(clf.best_params_))"
   ]
  },
  {
   "cell_type": "code",
   "execution_count": 53,
   "metadata": {},
   "outputs": [
    {
     "name": "stdout",
     "output_type": "stream",
     "text": [
      "Iteration 1, loss = 1.15837198\n",
      "Iteration 2, loss = 0.62835334\n",
      "Iteration 3, loss = 0.48154765\n",
      "Iteration 4, loss = 0.39587647\n",
      "Iteration 5, loss = 0.31923876\n",
      "Iteration 6, loss = 0.27581060\n",
      "Iteration 7, loss = 0.25445423\n",
      "Iteration 8, loss = 0.20586801\n",
      "Iteration 9, loss = 0.18956587\n",
      "Iteration 10, loss = 0.17868769\n",
      "Iteration 11, loss = 0.16294223\n",
      "Iteration 12, loss = 0.15611169\n",
      "Iteration 13, loss = 0.13994016\n",
      "Iteration 14, loss = 0.13627308\n",
      "Iteration 15, loss = 0.12633496\n",
      "Iteration 16, loss = 0.12355697\n",
      "Iteration 17, loss = 0.11541148\n",
      "Iteration 18, loss = 0.10983907\n",
      "Iteration 19, loss = 0.10949277\n",
      "Iteration 20, loss = 0.10503126\n",
      "Iteration 21, loss = 0.09646427\n",
      "Iteration 22, loss = 0.12243557\n",
      "Iteration 23, loss = 0.08966009\n",
      "Iteration 24, loss = 0.08638443\n",
      "Iteration 25, loss = 0.08071032\n",
      "Iteration 26, loss = 0.07697033\n",
      "Iteration 27, loss = 0.07232187\n",
      "Iteration 28, loss = 0.07647701\n",
      "Iteration 29, loss = 0.08207056\n",
      "Iteration 30, loss = 0.07527650\n",
      "Iteration 31, loss = 0.07011014\n",
      "Iteration 32, loss = 0.07112901\n",
      "Iteration 33, loss = 0.06021292\n",
      "Iteration 34, loss = 0.06526249\n",
      "Iteration 35, loss = 0.05695594\n",
      "Iteration 36, loss = 0.07065315\n",
      "Iteration 37, loss = 0.05545411\n",
      "Iteration 38, loss = 0.05111043\n",
      "Iteration 39, loss = 0.05121087\n",
      "Iteration 40, loss = 0.04639638\n",
      "Iteration 41, loss = 0.05038943\n",
      "Iteration 42, loss = 0.05567085\n",
      "Iteration 43, loss = 0.06806030\n",
      "Iteration 44, loss = 0.05451610\n",
      "Iteration 45, loss = 0.05338305\n",
      "Iteration 46, loss = 0.05584473\n",
      "Iteration 47, loss = 0.05508278\n",
      "Iteration 48, loss = 0.04649878\n",
      "Iteration 49, loss = 0.04634631\n",
      "Iteration 50, loss = 0.05333162\n",
      "Iteration 51, loss = 0.04651822\n",
      "Training loss did not improve more than tol=0.000100 for 10 consecutive epochs. Stopping.\n"
     ]
    }
   ],
   "source": [
    "final_clf = MLPClassifier(random_state=1, max_iter=500,\n",
    "                          hidden_layer_sizes= clf.best_params_['hidden_layer_sizes'],verbose = 1).fit(X_train, y_train)"
   ]
  },
  {
   "cell_type": "code",
   "execution_count": 54,
   "metadata": {},
   "outputs": [],
   "source": [
    "new_mlp_pred  = final_clf.predict(X_test)"
   ]
  },
  {
   "cell_type": "code",
   "execution_count": 55,
   "metadata": {},
   "outputs": [
    {
     "name": "stdout",
     "output_type": "stream",
     "text": [
      "accuracy = 0.9659613615455381\n"
     ]
    }
   ],
   "source": [
    "print(\"accuracy = {}\".format(accuracy_score(new_mlp_pred, y_test)))"
   ]
  },
  {
   "cell_type": "code",
   "execution_count": 56,
   "metadata": {},
   "outputs": [
    {
     "data": {
      "text/plain": [
       "array([[298,   2,   0,   1,   1,   1,   0,   3,   2],\n",
       "       [  3, 478,   0,   4,   1,   1,   1,   5,   3],\n",
       "       [  0,   0, 587,   0,   0,   1,   0,   0,   0],\n",
       "       [  1,   0,   0,  93,   0,   0,   0,   1,   0],\n",
       "       [  1,   0,   0,   0,   7,   0,   0,   0,   0],\n",
       "       [  2,   1,   0,   6,   1, 134,   0,   6,   0],\n",
       "       [  0,   2,   0,   0,   0,   0,  78,   0,   0],\n",
       "       [  3,   3,   0,   0,   0,   3,   0, 236,   1],\n",
       "       [  2,   5,   1,   2,   0,   0,   1,   3, 189]])"
      ]
     },
     "execution_count": 56,
     "metadata": {},
     "output_type": "execute_result"
    }
   ],
   "source": [
    "confusion_matrix(y_test, new_mlp_pred)"
   ]
  },
  {
   "cell_type": "markdown",
   "metadata": {},
   "source": [
    "#### Model 2 : Decision Trees"
   ]
  },
  {
   "cell_type": "code",
   "execution_count": 65,
   "metadata": {},
   "outputs": [
    {
     "name": "stdout",
     "output_type": "stream",
     "text": [
      "Fitting 5 folds for each of 20 candidates, totalling 100 fits\n"
     ]
    },
    {
     "name": "stderr",
     "output_type": "stream",
     "text": [
      "[Parallel(n_jobs=3)]: Using backend LokyBackend with 3 concurrent workers.\n",
      "[Parallel(n_jobs=3)]: Done  35 tasks      | elapsed:   11.4s\n",
      "[Parallel(n_jobs=3)]: Done 100 out of 100 | elapsed:   39.8s finished\n"
     ]
    },
    {
     "name": "stdout",
     "output_type": "stream",
     "text": [
      "Best Params: {'max_depth': 20, 'min_samples_split': 2}\n"
     ]
    }
   ],
   "source": [
    "parameters = {'min_samples_split':[2, 5, 10, 20], 'max_depth':[5,10,15,20,50]}\n",
    "dt = DecisionTreeClassifier()\n",
    "clf = GridSearchCV(dt, parameters, verbose = 2, n_jobs= 3)\n",
    "clf.fit(X_train, y_train)\n",
    "\n",
    "print('Best Params: {}'.format(clf.best_params_))"
   ]
  },
  {
   "cell_type": "code",
   "execution_count": 66,
   "metadata": {},
   "outputs": [],
   "source": [
    "final_dt = DecisionTreeClassifier(min_samples_split= clf.best_params_['min_samples_split'],\n",
    "                                 max_depth=clf.best_params_['max_depth']).fit(X_train, y_train)"
   ]
  },
  {
   "cell_type": "code",
   "execution_count": 92,
   "metadata": {},
   "outputs": [],
   "source": [
    "dt_pred  = final_dt.predict(X_test)"
   ]
  },
  {
   "cell_type": "code",
   "execution_count": 93,
   "metadata": {},
   "outputs": [
    {
     "name": "stdout",
     "output_type": "stream",
     "text": [
      "accuracy = 0.9599816007359706\n"
     ]
    }
   ],
   "source": [
    "print(\"accuracy = {}\".format(accuracy_score(dt_pred, y_test)))"
   ]
  },
  {
   "cell_type": "code",
   "execution_count": 94,
   "metadata": {},
   "outputs": [
    {
     "data": {
      "text/plain": [
       "array([[293,   3,   0,   1,   1,   4,   0,   4,   2],\n",
       "       [  9, 473,   0,   2,   0,   3,   1,   5,   3],\n",
       "       [  0,   0, 588,   0,   0,   0,   0,   0,   0],\n",
       "       [  1,   2,   0,  88,   0,   2,   0,   1,   1],\n",
       "       [  1,   1,   0,   0,   4,   2,   0,   0,   0],\n",
       "       [  3,   0,   0,   1,   2, 137,   1,   5,   1],\n",
       "       [  2,   1,   0,   0,   0,   0,  76,   0,   1],\n",
       "       [  3,   3,   0,   1,   0,   2,   0, 237,   0],\n",
       "       [  5,   2,   2,   0,   0,   1,   0,   2, 191]])"
      ]
     },
     "execution_count": 94,
     "metadata": {},
     "output_type": "execute_result"
    }
   ],
   "source": [
    "confusion_matrix(y_test, dt_pred)"
   ]
  },
  {
   "cell_type": "markdown",
   "metadata": {},
   "source": [
    "#### Model 3: Logistic Regression"
   ]
  },
  {
   "cell_type": "code",
   "execution_count": 77,
   "metadata": {},
   "outputs": [
    {
     "name": "stdout",
     "output_type": "stream",
     "text": [
      "Fitting 5 folds for each of 6 candidates, totalling 30 fits\n"
     ]
    },
    {
     "name": "stderr",
     "output_type": "stream",
     "text": [
      "[Parallel(n_jobs=4)]: Using backend LokyBackend with 4 concurrent workers.\n",
      "[Parallel(n_jobs=4)]: Done  30 out of  30 | elapsed:  1.7min finished\n"
     ]
    },
    {
     "name": "stdout",
     "output_type": "stream",
     "text": [
      "Best Params: {'C': 31.622776601683793, 'l1_ratio': 0, 'penalty': 'elasticnet'}\n"
     ]
    },
    {
     "name": "stderr",
     "output_type": "stream",
     "text": [
      "/home/vamsi/.local/lib/python3.8/site-packages/sklearn/linear_model/_sag.py:329: ConvergenceWarning: The max_iter was reached which means the coef_ did not converge\n",
      "  warnings.warn(\"The max_iter was reached which means \"\n"
     ]
    }
   ],
   "source": [
    "parameters = {'penalty':['elasticnet'],\n",
    "              'C':np.logspace(0, 3,3 ),\n",
    "              'l1_ratio': [0,1]}\n",
    "\n",
    "lr = LogisticRegression(solver= 'saga',max_iter=100)\n",
    "clf = GridSearchCV(lr, parameters, verbose = 1, n_jobs= 4)\n",
    "clf.fit(X_train, y_train)\n",
    "\n",
    "print('Best Params: {}'.format(clf.best_params_))"
   ]
  },
  {
   "cell_type": "code",
   "execution_count": 87,
   "metadata": {},
   "outputs": [
    {
     "name": "stderr",
     "output_type": "stream",
     "text": [
      "/home/vamsi/.local/lib/python3.8/site-packages/sklearn/linear_model/_sag.py:329: ConvergenceWarning: The max_iter was reached which means the coef_ did not converge\n",
      "  warnings.warn(\"The max_iter was reached which means \"\n"
     ]
    }
   ],
   "source": [
    "final_lr = LogisticRegression(solver= 'saga',\n",
    "                              max_iter=100,\n",
    "                             penalty = clf.best_params_['penalty'],\n",
    "                             C =clf.best_params_['C'],\n",
    "                             l1_ratio = clf.best_params_['l1_ratio']).fit(X_train, y_train)"
   ]
  },
  {
   "cell_type": "code",
   "execution_count": 88,
   "metadata": {},
   "outputs": [],
   "source": [
    "lr_pred  = final_lr.predict(X_test)"
   ]
  },
  {
   "cell_type": "code",
   "execution_count": 89,
   "metadata": {},
   "outputs": [
    {
     "name": "stdout",
     "output_type": "stream",
     "text": [
      "accuracy = 0.8495860165593376\n"
     ]
    }
   ],
   "source": [
    "print(\"accuracy = {}\".format(accuracy_score(lr_pred, y_test)))"
   ]
  },
  {
   "cell_type": "code",
   "execution_count": 90,
   "metadata": {},
   "outputs": [
    {
     "data": {
      "text/plain": [
       "array([[248,   4,   1,   0,   0,   3,   1,  48,   3],\n",
       "       [ 24, 429,   6,   1,   0,  16,   0,   8,  12],\n",
       "       [  0,   0, 588,   0,   0,   0,   0,   0,   0],\n",
       "       [  1,   0,   0,  33,   0,   0,   0,  61,   0],\n",
       "       [  0,   0,   0,   3,   0,   0,   4,   1,   0],\n",
       "       [ 10,   1,   3,   4,   0, 100,   1,  27,   4],\n",
       "       [  0,   0,   0,   0,   0,   3,  76,   0,   1],\n",
       "       [  8,   0,   0,   1,   0,   2,   0, 234,   1],\n",
       "       [ 38,   2,   2,   0,   0,   4,   0,  18, 139]])"
      ]
     },
     "execution_count": 90,
     "metadata": {},
     "output_type": "execute_result"
    }
   ],
   "source": [
    "confusion_matrix(y_test, lr_pred)"
   ]
  },
  {
   "cell_type": "markdown",
   "metadata": {},
   "source": [
    "### Final Results"
   ]
  },
  {
   "cell_type": "code",
   "execution_count": 95,
   "metadata": {},
   "outputs": [
    {
     "data": {
      "text/plain": [
       "{'MLP_default': 0.952161913523459,\n",
       " 'MLP_tuned': 0.9659613615455381,\n",
       " 'Decision Tree': 0.9599816007359706,\n",
       " 'Logistic Regression': 0.8495860165593376}"
      ]
     },
     "execution_count": 95,
     "metadata": {},
     "output_type": "execute_result"
    }
   ],
   "source": [
    "{'MLP_default': accuracy_score(mlp_pred, y_test),\n",
    "'MLP_tuned': accuracy_score(new_mlp_pred, y_test),\n",
    "'Decision Tree': accuracy_score(dt_pred, y_test),\n",
    "'Logistic Regression':accuracy_score(lr_pred, y_test) }"
   ]
  }
 ],
 "metadata": {
  "kernelspec": {
   "display_name": "Python 3",
   "language": "python",
   "name": "python3"
  },
  "language_info": {
   "codemirror_mode": {
    "name": "ipython",
    "version": 3
   },
   "file_extension": ".py",
   "mimetype": "text/x-python",
   "name": "python",
   "nbconvert_exporter": "python",
   "pygments_lexer": "ipython3",
   "version": "3.8.2"
  }
 },
 "nbformat": 4,
 "nbformat_minor": 4
}
